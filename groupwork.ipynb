{
 "cells": [
  {
   "cell_type": "markdown",
   "metadata": {},
   "source": [
    "Group :-Ishimwe jmv       21RP03621\n",
    "       -Tuyishime Patrick 21RP01834\n",
    "       -Mukunzi   Eric    21RP01571"
   ]
  },
  {
   "cell_type": "markdown",
   "metadata": {},
   "source": [
    "1.\tPizza Toppings: Write a loop that prompts the user to enter a series of pizza\n",
    "    toppings until they enter a 'quit' value. As they enter each topping, print a\n",
    "    message saying you’ll add that topping to their pizza. "
   ]
  },
  {
   "cell_type": "code",
   "execution_count": null,
   "metadata": {},
   "outputs": [],
   "source": [
    "prompt = \"\\nWhat topping would you like on your pizza?\"\n",
    "prompt += \"\\nEnter 'quit' when you are finished: \"\n",
    "\n",
    "while True:\n",
    "    topping = input(prompt)\n",
    "    if topping != 'quit':\n",
    "        print(\"  I'll add \" + topping + \" to your pizza.\")\n",
    "    else:\n",
    "        break"
   ]
  },
  {
   "cell_type": "markdown",
   "metadata": {},
   "source": [
    "2.\tMovie Tickets: A movie theatre charges different ticket prices depending on a person’s age. If a person is  under the age of 3, the ticket is free; if they are between 3 and 12, the ticket is $10; and if they are over age 12, the ticket is $15. Write a loop in which you ask users their age, and then tell them the cost of their movie ticket."
   ]
  },
  {
   "cell_type": "code",
   "execution_count": null,
   "metadata": {},
   "outputs": [],
   "source": [
    "prompt = \"How old are you?\"\n",
    "prompt += \"\\nEnter 'quit' when you are finished. \"\n",
    "\n",
    "while True:\n",
    "    age = input(prompt)\n",
    "    if age == 'quit':\n",
    "        break\n",
    "    age = int(age)\n",
    "\n",
    "    if age < 3:\n",
    "        print(\"  You get in free!\")\n",
    "    elif age < 13:\n",
    "        print(\"  Your ticket is $10.\")\n",
    "    else:\n",
    "        print(\"  Your ticket is $15.\")"
   ]
  },
  {
   "cell_type": "markdown",
   "metadata": {},
   "source": [
    "3.\tThree Exits: Write different versions of either Exercise 1 or 2 that do each of the following at least once:\n",
    "\t.Use a conditional test in the while statement to stop the loop.\n",
    "\t.Use an active variable to control how long the loop runs.\n",
    "\t.Use a break statement to exit the loop when the user enters a 'quit' value.\n"
   ]
  },
  {
   "cell_type": "code",
   "execution_count": null,
   "metadata": {},
   "outputs": [],
   "source": [
    "print(\"Exercise 1\")\n",
    "\n",
    "prompt = \"Enter a pizza topping (enter 'quit' to exit): \"\n",
    "active = True\n",
    "\n",
    "while active:\n",
    "  topping = input(prompt)\n",
    "  \n",
    "  if topping == 'quit':\n",
    "    active = False\n",
    "  else:\n",
    "   print(f\"Adding {topping} to your pizza!\")\n",
    "\n",
    "   print(\"\\n\")\n",
    "   print(\"\\n\")\n",
    "\n",
    "  print(\"EXERCISE 2\")\n",
    "\n",
    "prompt = \"Enter your age (enter 'quit' to exit): \"\n",
    "active = True\n",
    "\n",
    "while active:\n",
    "  age = input(prompt)\n",
    "  \n",
    "  if age == 'quit':\n",
    "   active = False\n",
    "  else:\n",
    "   age = int(age)\n",
    "  if age < 3:\n",
    "   print(\"The ticket is free.\")\n",
    "  elif age < 13:\n",
    "   print(\"The ticket is $10.\")\n",
    "  else:\n",
    "   print(\"The ticket is $15.\")"
   ]
  },
  {
   "cell_type": "markdown",
   "metadata": {},
   "source": [
    "In both examples, a while loop is used with a conditional test in the while statement to control how long the loop runs. The loop continues as long as the active variable is True. When the user enters 'quit', the active variable is set to False, and the loop terminates.\n",
    "\n",
    "Additionally, a break statement is used to exit the loop when the user enters a 'quit' value. This allows the loop to be terminated immediately without executing any further code within the loop."
   ]
  },
  {
   "cell_type": "markdown",
   "metadata": {},
   "source": [
    "\n",
    "4.\tInfinity: Write a loop that never ends, and run it. (To end the loop, press CTRL-C or close the window displaying the output.) \n"
   ]
  },
  {
   "cell_type": "code",
   "execution_count": null,
   "metadata": {},
   "outputs": [],
   "source": [
    "while True:\n",
    "    print(\"Patos\")\n",
    "    pass"
   ]
  },
  {
   "cell_type": "markdown",
   "metadata": {},
   "source": [
    "5.\tMake a list called sandwich_orders and fill it with the names of various sandwiches. Then make an empty list called finished_sandwiches. Loop through the list of sandwich orders and print a message for each order, such as I made your tuna sandwich. As each sandwich is made, move it to the list of finished sandwiches. After all the sandwiches have been made, print a message listing each sandwich that was made."
   ]
  },
  {
   "cell_type": "code",
   "execution_count": null,
   "metadata": {},
   "outputs": [],
   "source": [
    "sandwich_orders = ['veggie', 'grilled cheese', 'turkey', 'roast beef']\n",
    "finished_sandwiches = []\n",
    "\n",
    "while sandwich_orders:\n",
    "    current_sandwich = sandwich_orders.pop()\n",
    "    print(\"I'm working on your \" + current_sandwich + \" sandwich.\")\n",
    "    finished_sandwiches.append(current_sandwich)\n",
    "\n",
    "print(\"\\n\")\n",
    "for sandwich in finished_sandwiches:\n",
    "    print(\"I made a \" + sandwich + \" sandwich.\")"
   ]
  }
 ],
 "metadata": {
  "kernelspec": {
   "display_name": "Python 3",
   "language": "python",
   "name": "python3"
  },
  "language_info": {
   "name": "python",
   "version": "3.12.1"
  }
 },
 "nbformat": 4,
 "nbformat_minor": 2
}
